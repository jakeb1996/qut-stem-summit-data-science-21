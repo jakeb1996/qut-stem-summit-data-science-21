{
 "cells": [
  {
   "cell_type": "markdown",
   "id": "f06ee7cc-67cf-449d-a2da-0004e24fac95",
   "metadata": {},
   "source": [
    "<div style=\"text-align: center; font-size: 2em; width: 100%\">\n",
    "    👋 Welcome 👋<br>\n",
    "</div>\n",
    "\n",
    "<div style=\"text-align: center; font-size: 1em; width: 100%\">\n",
    "    to the\n",
    "</div>\n",
    "\n",
    "<div style=\"text-align: center; font-size: 1.5em; width: 100%\">\n",
    "    QUT Future You (STEM) Summit 2021<br>\n",
    "    <i>Data Science Workshop</i>\n",
    "</div>\n",
    "\n",
    "<div style=\"text-align: center; font-size: 1.2em; width: 100%; margin-top: 2em\">\n",
    "    Your facilitator's name is <u>Jake Bradford</u>\n",
    "</div>"
   ]
  },
  {
   "cell_type": "markdown",
   "id": "dbb41555-0ed0-4e6f-9c32-dbc54e28a6a0",
   "metadata": {},
   "source": [
    "# ℹ Preamble\n",
    "QUT runs virtual machine based JupyterLab that users can connect to, whatever their computer.\n",
    "* It provides Jupyter Notebooks, a bash shell, editors... \n",
    "* all we need to introduce the fundamentals of working with data in a Unix environment.\n",
    "\n",
    "You may be wondering - what is a shell?\n",
    "\n",
    "In computing, a shell wraps around the kernel of a computer's operating system\n",
    "* inside which lives the hardware:\n",
    "   * the CPU, \n",
    "   * memory and \n",
    "   * devices\n",
    "\n",
    "We interact with the kernel via a program called a shell.\n",
    "\n",
    "Using the shell, we can instruct the operating system to do *things* via commands\n",
    "* A command is an instruction written in text for the shell to interpret\n",
    "* The idea is that you type a command, then hit “Enter” or “Return” on your keyboard\n",
    "   * what you have typed is sent to the shell to interpret."
   ]
  },
  {
   "cell_type": "markdown",
   "id": "91c9f3e0-686f-42c0-a443-4806055c5c6d",
   "metadata": {},
   "source": [
    "# 👩‍💻 Introduction to Bash (Born Again Shell)\n",
    "\n",
    "* There are not many exercises for you to do, yet. \n",
    "* First, I will introduce you to basic operations in bash, then move onto more complex commands."
   ]
  },
  {
   "cell_type": "markdown",
   "id": "5b8b2dec-6fbd-43b5-ae85-ce1cfd4eb38a",
   "metadata": {},
   "source": [
    "## How can we print text to the terminal? [`echo`](https://learning.oreilly.com/library/view/bash-quick-start/9781789538830/e2524ecc-dfad-44d6-9532-4bde639149ff.xhtml)\n",
    "\n",
    "* `echo` is used to print data \n",
    "    * You may notice in the first `echo` command there is `-n`\n",
    "        * `-n` is a flag. It indicates that `echo` should not print a newline character\n"
   ]
  },
  {
   "cell_type": "code",
   "execution_count": null,
   "id": "2fac6353-8d0f-47ab-ae40-03dac6523e00",
   "metadata": {},
   "outputs": [],
   "source": [
    "echo -n \"Hello \"                  # -n suppressed the newline\n",
    "echo \"World!\"                     # echo automatically puts a newline at the end"
   ]
  },
  {
   "cell_type": "markdown",
   "id": "cb9ade70-002b-42d6-84a3-a5d0c1453d2a",
   "metadata": {},
   "source": [
    "## Where are we? [`pwd`](https://learning.oreilly.com/library/view/bash-quick-start/9781789538830/d251408a-efc7-4aa1-a750-1b3f47fb24bf.xhtml)\n",
    "\n",
    "* `pwd` **p**rints your **w**orking **d**irectory, telling you where you are currently working in the file system"
   ]
  },
  {
   "cell_type": "code",
   "execution_count": null,
   "id": "96e3c4df-2099-4926-a5d2-b35ede31ce86",
   "metadata": {},
   "outputs": [],
   "source": [
    "pwd # print the file path to your working directory"
   ]
  },
  {
   "cell_type": "markdown",
   "id": "e7443409-d5af-495b-9ad2-417f286e2309",
   "metadata": {},
   "source": [
    "## What files and directories are in your file system? [`ls`](https://learning.oreilly.com/library/view/bash-quick-start/9781789538830/ba8872c7-cdb1-4a1d-b5cd-193d2775209a.xhtml)\n",
    "* `ls` **l**i**s**ts the files that are in a directory (by default, your current working directory)"
   ]
  },
  {
   "cell_type": "code",
   "execution_count": null,
   "id": "0ebf1d9c-7f96-483a-94b1-54bea7fab5bb",
   "metadata": {},
   "outputs": [],
   "source": [
    "ls"
   ]
  },
  {
   "cell_type": "markdown",
   "id": "2763c54a-82ea-43b4-a7c7-48e9dffdb350",
   "metadata": {},
   "source": [
    "* This is a good time to introduce some important directory names:\n",
    "    * `.` refers to your current working directory\n",
    "    * `..` refers to the directory above your working directory (the parent directory)\n",
    "    * `~` is your home directory\n",
    "    * `/` is the root directory\n",
    "        * Use the `/` to separate different directories in your path\n",
    "* Here we use `ls` to list the contents of those directories"
   ]
  },
  {
   "cell_type": "code",
   "execution_count": null,
   "id": "f6e17ac0-83a6-479b-9135-2e2410bdc306",
   "metadata": {},
   "outputs": [],
   "source": [
    "ls .    # \".\" is your current directory"
   ]
  },
  {
   "cell_type": "code",
   "execution_count": null,
   "id": "f80a1390-3b3b-4f40-b70e-db548dfe1e25",
   "metadata": {},
   "outputs": [],
   "source": [
    "ls ./   # \"./\" is still your current directory"
   ]
  },
  {
   "cell_type": "code",
   "execution_count": null,
   "id": "7739f824-41f0-4cab-9d74-a87a710e8f43",
   "metadata": {},
   "outputs": [],
   "source": [
    "ls ..   # \"..\" is your parent directory"
   ]
  },
  {
   "cell_type": "code",
   "execution_count": null,
   "id": "8567922a-3af0-42cd-a0c1-877e633860f2",
   "metadata": {},
   "outputs": [],
   "source": [
    "ls ~    # \"~\" is your home directory"
   ]
  },
  {
   "cell_type": "code",
   "execution_count": null,
   "id": "7873bb77-f49f-46d1-9123-c9b4bc41796e",
   "metadata": {},
   "outputs": [],
   "source": [
    "ls ~/.. # \"~/..\" is the parent of your home directory"
   ]
  },
  {
   "cell_type": "code",
   "execution_count": null,
   "id": "39c507ec-1df5-43a5-bd40-e37ba5bdbe92",
   "metadata": {},
   "outputs": [],
   "source": [
    "ls /    # The root directory of your file system"
   ]
  },
  {
   "cell_type": "markdown",
   "id": "532e1d70-4f0f-40ce-88f6-2070ef13a806",
   "metadata": {},
   "source": [
    "## How do I list all the files in this directory and all the directories within it? `ls -R`\n",
    "* `ls -R` recursively lists files in the named directory and all its child directories"
   ]
  },
  {
   "cell_type": "code",
   "execution_count": null,
   "id": "b5cae685-d412-4493-8585-ef4f49bd287d",
   "metadata": {},
   "outputs": [],
   "source": [
    "ls -R "
   ]
  },
  {
   "cell_type": "markdown",
   "id": "e5be16c0-efb8-4478-a08b-1c4d3fffe2ee",
   "metadata": {},
   "source": [
    "## Creating directories and files\n",
    "* Now that you can find out where you are in a file system (`pwd`) and see what files and directories are around (`ls`) it's time to look at how to create and remove directories\n",
    "* `mkdir` makes the directories you tell it to, i.e., the *arguments* you give to the command\n",
    "    * This is a good time to explain how to specify file and directory names that contain special characters\n",
    "    * The command `mkdir this and that` has three arguments and will create three different directories: `this`, `and`, `that`,"
   ]
  },
  {
   "cell_type": "code",
   "execution_count": null,
   "id": "88357172-ac81-417f-b91c-e6c3fdd60d83",
   "metadata": {},
   "outputs": [],
   "source": [
    "mkdir apple apricot avocado\n",
    "ls -l"
   ]
  },
  {
   "cell_type": "markdown",
   "id": "b5a7b7b5-ce94-4a28-bcd3-17aaec8e7e13",
   "metadata": {},
   "source": [
    "## How do I change the directory I am working in? `cd`\n",
    "* Use `cd` to change into a different working directory, e.g.,"
   ]
  },
  {
   "cell_type": "code",
   "execution_count": null,
   "id": "b1e00031-512c-44da-bc95-8f5df7b9a8e9",
   "metadata": {},
   "outputs": [],
   "source": [
    "pwd\n",
    "cd apple\n",
    "pwd\n",
    "cd ../\n",
    "pwd"
   ]
  },
  {
   "cell_type": "markdown",
   "id": "0da82661-8c3a-47be-9308-f953770624fb",
   "metadata": {},
   "source": [
    "## How can I create a file? `touch`\n",
    "* `touch` is handy because it allows us to make empty files or update the timestamp on when a file was last accessed (\"touched\")\n",
    "    * Let's touch some files so we can use the months of the year as a case study in the next section"
   ]
  },
  {
   "cell_type": "code",
   "execution_count": null,
   "id": "78935f4d-9c03-40b2-8bf2-edc5f1a0b62a",
   "metadata": {},
   "outputs": [],
   "source": [
    "mkdir ./months\n",
    "cd    ./months\n",
    "touch January February March April May June July August September October November December\n",
    "ls"
   ]
  },
  {
   "cell_type": "markdown",
   "id": "1958e1d1-a480-4ac9-91fa-64b244dc2722",
   "metadata": {},
   "source": [
    "## How can I use wildcards to refer to file names that match certain patterns? [Using globs](https://learning.oreilly.com/library/view/bash-quick-start/9781789538830/0b363378-6809-462b-aa8c-69d20bbc49d0.xhtml) \n",
    "\n",
    "* `bash` and other shells support the use of _wildcards_: symbols that can match other characters\n",
    "    * These are called _glob_ patterns... Why? Read [glob (programming)](https://en.wikipedia.org/wiki/Glob_(programming)) for the history\n",
    "    * Note that [_glob_ patterns are different from _regular expressions_](https://unix.stackexchange.com/questions/136353/history-of-bash-globbing)\n",
    "* Here are some examples to get you started:"
   ]
  },
  {
   "cell_type": "code",
   "execution_count": null,
   "id": "a6f5033d-844d-4bf7-8f80-fccc302483a9",
   "metadata": {},
   "outputs": [],
   "source": [
    "ls *l      # Files ending in 'l'\n",
    "ls J*      # Files starting with 'J'\n",
    "ls *m*     # Files with an 'm' in them\n",
    "ls *[Mm]*  # Files with an 'm' or an 'M' in them\n",
    "ls *[a-c]* # Files with an 'a', 'b' or 'c' in them  "
   ]
  },
  {
   "cell_type": "markdown",
   "id": "282751db-0baf-48c5-a77a-4bc5fb33433c",
   "metadata": {},
   "source": [
    "## How do I delete directories or files (...or everything)? [`rm`](https://learning.oreilly.com/library/view/bash-quick-start/9781789538830/fe731253-f256-40d0-b15a-535ffde9c739.xhtml) \n",
    "* This is the first genuinely dangerous command in this guide\n",
    "\n",
    "**Warning! Danger! Beware!**:\n",
    "\n",
    "* `rm` can quickly and permanently remove any and all files in your file system\n",
    "    * It does not move files to a *Recycle Bin*\n",
    "    * If you have made backups of important work and kept them in your file system, `rm` can remove those too\n",
    "    * Important work should be downloaded and backed up *away from your file system*\n",
    "    * Even then, `rm` can still wreak havoc because it is just so easy to remove lots of things by accident\n",
    "* One simple (but not disaster proof) approach is to _`ls` the file(s) you want to delete, then invoke `rm`_\n",
    "    * Let's say we want to delete files in our `./months` directory that begin with `Ju`\n",
    "* First, let's make sure that we that we can list these files"
   ]
  },
  {
   "cell_type": "code",
   "execution_count": null,
   "id": "74564b57-41dc-4ead-b80e-ae9f62181e12",
   "metadata": {},
   "outputs": [],
   "source": [
    "ls ./Ju*\n",
    "rm ./Ju*  # Remove June and July\n",
    "ls ./J*   # ...but not January"
   ]
  },
  {
   "cell_type": "markdown",
   "id": "419e69ae-f00a-4fa3-864c-c4dbfea95af3",
   "metadata": {},
   "source": [
    "## How do I copy a file? [`cp`](https://learning.oreilly.com/library/view/bash-quick-start/9781789538830/976b978c-64a8-4370-a5a0-996d758e901b.xhtml) \n",
    "\n",
    "* We can copy one file to another like this\n",
    "* Note: for this demo, first, I am going to write some text into the file `January`"
   ]
  },
  {
   "cell_type": "code",
   "execution_count": null,
   "id": "d5ec8ac0-af97-4203-a293-c74ebe081386",
   "metadata": {},
   "outputs": [],
   "source": [
    "echo \"January is the first month of the year\" > January\n",
    "ls ./J*\n",
    "cp January January.v2\n",
    "ls ./J*"
   ]
  },
  {
   "cell_type": "markdown",
   "id": "2f57ba7c-9a1a-414e-b823-5260bc2cb86d",
   "metadata": {},
   "source": [
    "## Can I accidentally overwrite a file with `cp`?\n",
    "* Yup. Like this..."
   ]
  },
  {
   "cell_type": "code",
   "execution_count": null,
   "id": "f6e17402-bf2e-4cef-bd1d-69382fa65813",
   "metadata": {},
   "outputs": [],
   "source": [
    "echo \"February is the second month of the year.\" >> February\n",
    "cp February January\n",
    "cat January # print the contents of the file `January`\n",
    "\n",
    "# run this block a few times\n",
    "#  ... notice the output is becoming longer \n",
    "#  ... why is that?"
   ]
  },
  {
   "cell_type": "raw",
   "id": "e32b8171-3a9b-4484-ad8f-45ef4e417092",
   "metadata": {},
   "source": [
    "# Type your response here"
   ]
  },
  {
   "cell_type": "markdown",
   "id": "846815fd-8167-4779-8028-6a64ad249e9f",
   "metadata": {},
   "source": [
    "## How do I move or rename a file? [`mv`](https://learning.oreilly.com/library/view/bash-quick-start/9781789538830/6b5ae772-1579-4371-b967-7ab7bdb7adf4.xhtml)\n",
    "\n",
    "* Using `mv` within the same directory effectively renames a file:"
   ]
  },
  {
   "cell_type": "code",
   "execution_count": null,
   "id": "fd563d1a-1bbb-4c09-8784-53511f17156b",
   "metadata": {},
   "outputs": [],
   "source": [
    "mv January January_old\n",
    "ls -lhR ./"
   ]
  },
  {
   "cell_type": "markdown",
   "id": "7ab4176a-a5f8-4314-a711-39fdba82962b",
   "metadata": {},
   "source": [
    "## Exercise: write bash commands to remove all files that contain `January` in their name\n",
    "\n",
    "* then, create a new `January` file"
   ]
  },
  {
   "cell_type": "code",
   "execution_count": null,
   "id": "53830789-ad81-4cea-97f5-de72ec44f7c9",
   "metadata": {},
   "outputs": [],
   "source": [
    "# Write your code here\n"
   ]
  },
  {
   "cell_type": "markdown",
   "id": "429670e0-d46d-4a75-afc9-74443ef03252",
   "metadata": {},
   "source": [
    "## What other commands are there? `<tab><tab>`\n",
    "* Go to your bash terminal \n",
    "    * *File -> New -> Terminal*\n",
    "    * Hit the `<tab>` key twice\n",
    "    * If you type `y`, bash will print all the (very many) commands you could invoke\n",
    "    * If you just want all the commands that start with `a`, type `a<tab><tab>`\n",
    "    * This is called _tab completion_ "
   ]
  },
  {
   "cell_type": "markdown",
   "id": "cdc7174b-1751-4f3e-8a64-3012fe18370d",
   "metadata": {},
   "source": [
    "## Cleaning up\n",
    "\n",
    "Now that we are done with this activity, let's clean up the files we have created.\n",
    "\n",
    "Run `rm`, below, using `-R` (recursively delete), `-f` (force delete) and `-v` (verbose - tell us what *you* are doing)."
   ]
  },
  {
   "cell_type": "code",
   "execution_count": null,
   "id": "5b49cf9e-7755-4969-8376-53231e5a36ed",
   "metadata": {},
   "outputs": [],
   "source": [
    "# First, make sure you are in the directory that contains the iPython notebook (.ipynb)\n",
    "pwd\n",
    "# cd ../\n",
    "# pwd\n",
    "ls *.ipynb"
   ]
  },
  {
   "cell_type": "code",
   "execution_count": null,
   "id": "2f334a52-d9d5-4638-b4db-c9d2051cac30",
   "metadata": {},
   "outputs": [],
   "source": [
    "# then, run this cell\n",
    "rm -vRf apple aprocit avocado months"
   ]
  },
  {
   "cell_type": "markdown",
   "id": "d75904bc-0da3-4f9a-b070-7f2a40c8cabc",
   "metadata": {},
   "source": [
    "# ✍ Preparing data"
   ]
  },
  {
   "cell_type": "markdown",
   "id": "8fbbdafe-ccbd-4317-a0a7-246acb4a8ffb",
   "metadata": {},
   "source": [
    "* The next part of this workshop is about getting data ready for further analysis and exploration\n",
    "* This will start preparing you to finish a crossword that David left for us\n",
    "* I've downloaded `OED.raw.txt` into the `data` directory for you.\n",
    "    * OED stands for `Oxford English Dictionary`\n",
    "    \n",
    "* When working with big files, it is easy to run commands that produce so much output that your notebook or terminal becomes overwhelmed\n",
    "    * One strategy to avoid this is to work with a sample of the file\n",
    "        * e.g., create a smaller version using `head -100 bigfile > smallfile` and work with `smallfile`\n",
    "        * You should use `./data/OED.sml.raw.txt` for `smallfile`\n",
    "\n",
    "There are two code cells below for you:\n",
    "1. Make sure you are in the correct working direcory. \n",
    "    * When running `pwd`, you should see:\n",
    "        * `data/`\n",
    "        * `images/`\n",
    "        * `QUT-STEM-Summit-DS-2021.ipynb`\n",
    "2. Use the `head` command, as instructed above."
   ]
  },
  {
   "cell_type": "code",
   "execution_count": null,
   "id": "595394f6-f9d2-461e-87fb-8de5f55702cb",
   "metadata": {},
   "outputs": [],
   "source": [
    "# Write a `cd` command here, if needed\n",
    "pwd\n",
    "# cd "
   ]
  },
  {
   "cell_type": "code",
   "execution_count": null,
   "id": "8c1f8fc1-9afe-444a-9c27-6fbc856ca34f",
   "metadata": {},
   "outputs": [],
   "source": [
    "# Write the `head` command here\n"
   ]
  },
  {
   "cell_type": "markdown",
   "id": "c2456f87-a372-4abe-984b-a6eca234df75",
   "metadata": {},
   "source": [
    "## Exercise: Look closer at specific lines using `sed`\n",
    "\n",
    "* Rather than working with many lines, let's work on a couple just to see what's going on\n",
    "* Write a `sed` (*stream editor*) command to extract lines 13, 19 and 33 from `./data/OED.sml.raw.txt`\n",
    "    * Hint: first try `sed -n '3p'  ./data/OED.sml.raw.txt`\n",
    "    * You could run three `sed` commands\n",
    "    * Or, can you work out how to extract all three lines within a single `sed` command?"
   ]
  },
  {
   "cell_type": "code",
   "execution_count": null,
   "id": "1997ec3b-2197-46fa-b195-f63d93ac1773",
   "metadata": {},
   "outputs": [],
   "source": [
    "# Write your code here\n"
   ]
  },
  {
   "cell_type": "markdown",
   "id": "285f8917-1d8f-477c-9412-d6348cd456ef",
   "metadata": {},
   "source": [
    "## Exercise: Take a close look at the format of the data\n",
    "\n",
    "* While it is great to have the full OED, we are really only interested in the words, not the definitions\n",
    "* My guess is that the words are separated from the definitions by two spaces `\"  \"`\n",
    "    * Take a look for yourself...\n",
    "    * I have used a `tr` (*translate*) command to replace spaces with periods.\n",
    "    * The `|` (*pipe*) character passes the output from one command as input to another"
   ]
  },
  {
   "cell_type": "code",
   "execution_count": null,
   "id": "5d3831f6-4534-461d-b2fa-eab64bbf303f",
   "metadata": {},
   "outputs": [],
   "source": [
    "# Extract the first ten lines of the file, then for these lines, replace whitespace with periods\n",
    "head -n10 data/OED.sml.raw.txt | tr ' ' '.'"
   ]
  },
  {
   "cell_type": "markdown",
   "id": "32d179d3-7e6c-40f0-a8d5-8e448c5e88ef",
   "metadata": {},
   "source": [
    "* Now, you will learn to use the command `awk` to process the data.\n",
    "    * Below, this `awk` command simply prints each line of the file\n",
    "    * `awk` runs whatever we provide within the braces (`{` and `}`) for each line of the file\n",
    "        * `$0` is the line itself"
   ]
  },
  {
   "cell_type": "code",
   "execution_count": null,
   "id": "8aee52e5-1ba7-4e85-b2bc-864812168bca",
   "metadata": {},
   "outputs": [],
   "source": [
    "awk '{print $0}' data/OED.sml.raw.txt"
   ]
  },
  {
   "cell_type": "markdown",
   "id": "dc6316ba-660d-44aa-85c5-eaf3d4c56237",
   "metadata": {},
   "source": [
    "* This one prints the number of fields (`NF`) per line \n",
    "    * Think of a *field* as being a column from an Excel spreadsheet"
   ]
  },
  {
   "cell_type": "code",
   "execution_count": null,
   "id": "cf0b09c0-21d6-4161-b55f-7dc5b00a8094",
   "metadata": {},
   "outputs": [],
   "source": [
    "awk '{print NF}' data/OED.sml.raw.txt"
   ]
  },
  {
   "cell_type": "markdown",
   "id": "8cc65bc0-3ebf-45da-a2df-076b73b8b326",
   "metadata": {},
   "source": [
    "* Hmm, what an interesting output! There are so many seemingly random numbers\n",
    "    * In fact, `awk` separates lines into fields by any run of spaces and/or tabs and/or newlines. \n",
    "    * Knowing this, can you write in 1-3 sentences your understanding of the output from the previous command?"
   ]
  },
  {
   "cell_type": "raw",
   "id": "65e35a94-1f50-4565-87da-b53420e25e76",
   "metadata": {},
   "source": [
    "# Type your response here\n"
   ]
  },
  {
   "cell_type": "markdown",
   "id": "6a5d9a99-c632-420a-a5db-01ab690e5cdc",
   "metadata": {},
   "source": [
    "* What is the distribution of NF's?\n",
    "    * Can you pipe the output of `awk` through `sort` then `uniq`\n",
    "        * Use `uniq -c` \n",
    "            * `uniq` assumes its input is already sorted\n",
    "            * `uniq` with `-c` will count the number of distinct values"
   ]
  },
  {
   "cell_type": "code",
   "execution_count": null,
   "id": "36fe2d7e-7631-4538-a3b2-8f9ad073fc73",
   "metadata": {},
   "outputs": [],
   "source": [
    "# Write your code here\n"
   ]
  },
  {
   "cell_type": "markdown",
   "id": "24491bde-3497-409d-b39d-136ca75e2d1d",
   "metadata": {},
   "source": [
    "* What is the meaning of each column? Write 1-3 sentences."
   ]
  },
  {
   "cell_type": "raw",
   "id": "d2680582-01ae-43c1-ba38-1d97afa249a5",
   "metadata": {},
   "source": [
    "# Type your response here\n"
   ]
  },
  {
   "cell_type": "markdown",
   "id": "d5e314a2-180d-4aba-9d71-f34a23cca67c",
   "metadata": {},
   "source": [
    "* I have already suggested to you that the words are separated from their definition by two spaces `\"  \"`.\n",
    "    * We can tell `awk` exactly this\n",
    "    * `-F` tells `awk` precisely what the field separator is\n",
    "        * Add `-F\"  \"` to your `awk` command"
   ]
  },
  {
   "cell_type": "code",
   "execution_count": null,
   "id": "fd6cf5cc-65cd-42bf-841a-a03f71cf36de",
   "metadata": {},
   "outputs": [],
   "source": [
    "# Write your code here\n"
   ]
  },
  {
   "cell_type": "markdown",
   "id": "a36fd07c-326f-48a5-9308-a5df0f667988",
   "metadata": {},
   "source": [
    "* That's looking better -- we only see 0's and 2's\n",
    "    * Why are there lines with zero fields?"
   ]
  },
  {
   "cell_type": "markdown",
   "id": "599c708e-ed6e-4a1c-89df-495f73fb55b3",
   "metadata": {},
   "source": [
    "## Exercise: what is the distribution of NF's for the full dataset?\n",
    "* i.e., on `data/OED.raw.txt`\n",
    "* Use the command we provided in the previous code cell\n"
   ]
  },
  {
   "cell_type": "code",
   "execution_count": null,
   "id": "de680f89-1ba9-483f-b6e3-8d3cf0adf903",
   "metadata": {},
   "outputs": [],
   "source": [
    "# Write your code here\n"
   ]
  },
  {
   "cell_type": "markdown",
   "id": "3e174516-1b08-410b-bffb-3b687c167a92",
   "metadata": {},
   "source": [
    "* Argh! We are back to seeing lines with strange numbers of fields\n",
    "    * I'll show you, soon, how to ignore those lines\n",
    "* But first, let's tell `awk` to print particular fields.\n",
    "    * In the next exercise, explore what happens when you replace `NF` with `$0` or `$1`\n",
    "    * Revert back to using the small file (i.e. `data/OED.sml.raw.txt`)"
   ]
  },
  {
   "cell_type": "markdown",
   "id": "ff42e904-f8ea-4c14-884b-8da718162c88",
   "metadata": {},
   "source": [
    "## Exercise: write an `awk` command to extract the words"
   ]
  },
  {
   "cell_type": "code",
   "execution_count": null,
   "id": "e4c91184-2891-4d2a-aef4-e0601693cccd",
   "metadata": {},
   "outputs": [],
   "source": [
    "# Write your code here\n"
   ]
  },
  {
   "cell_type": "markdown",
   "id": "e176f71d-d760-4cfb-8d02-cfeb64c26d59",
   "metadata": {},
   "source": [
    "* Okay... what to do about those pesky blank lines!\n",
    "* Can you try removing them?\n",
    "* Here's a hint\n",
    "    * Replace the first ellipsis `...` with a condition to filter out blank lines\n",
    "    * Replace the second ellipsis `...` with an instruction to print the definition (second field)"
   ]
  },
  {
   "cell_type": "code",
   "execution_count": null,
   "id": "1b91c9c6-319b-4d51-a07b-5c896f223ce0",
   "metadata": {},
   "outputs": [],
   "source": [
    "# Write your code here\n",
    "awk -F\"  \" '( ... ){ ... }' data/OED.sml.raw.txt"
   ]
  },
  {
   "cell_type": "markdown",
   "id": "1aea0c3b-8eef-4854-a000-09b412406e5a",
   "metadata": {},
   "source": [
    "## Exercise: prepare a file containing words only\n",
    "\n",
    "* Write an `awk` one-liner to print out the first field of every line in `data/OED.sml.raw.txt` that has two fields, where the field separator is `\"  \"`\n",
    "    * Use the `awk` function `tolower()` to convert everything to lower case\n",
    "    \n",
    "* Once you are satisfied, apply your script to `data/OED.raw.txt` (the big file!) and save the output in `data/words.txt`\n",
    "    * Recall `>` for output redirection\n",
    "* Use `head` to observe the first thirty words in `data/words.txt`... can you see any words that are not in lower case??"
   ]
  },
  {
   "cell_type": "code",
   "execution_count": null,
   "id": "a1108c1e-835e-4d5c-bdd0-73185af722ee",
   "metadata": {},
   "outputs": [],
   "source": [
    "# write your `awk` command here (for the small file first)\n"
   ]
  },
  {
   "cell_type": "code",
   "execution_count": null,
   "id": "d1240891-6743-410c-827f-914a34b2ab00",
   "metadata": {},
   "outputs": [],
   "source": [
    "# write your `awk` command here (now for the entire dataset)\n"
   ]
  },
  {
   "cell_type": "code",
   "execution_count": null,
   "id": "1f524bdf-01b9-4eac-8be4-f8ca3275d095",
   "metadata": {},
   "outputs": [],
   "source": [
    "# Write your `head` command here\n"
   ]
  },
  {
   "cell_type": "markdown",
   "id": "2774840c-f8c0-4f9c-b36e-d4fff79f175f",
   "metadata": {},
   "source": [
    "# 🔍 Searching in data"
   ]
  },
  {
   "cell_type": "markdown",
   "id": "f74d1324-13f1-4497-a7cd-dcb5bb4adfb2",
   "metadata": {},
   "source": [
    "* We are progressing toward solving David's crossword\n",
    "    * Now, let's learn to find words of interest in `data/words.txt`\n",
    "        * using regular expressions...\n",
    "\n",
    "## Regular expressions...\n",
    "\n",
    "> In theory, Regular expressions are strings that define sets of strings. \n",
    "\n",
    "For example, the regular expression `/Alan/` will match any string that has the *Alan* in it.\n",
    "\n",
    "Another example, `/^Alan$/` will match strings that have only the word `Alan` in them;\n",
    "* the caret is called an anchor - it matches the beginning of the string \n",
    "* the dollar is another anchor - it matches the end of the string.\n",
    "* But why these characters? Why do these characters have special powers?\n",
    "    * The answer is: because we say so.\n",
    "    * The computer scientists, programmers and software engineers who have implemented regular expression systems have adopted different standards and conventions so…\n",
    "\n",
    "    \n",
    "Want another example? `/[Aa]lan/` will match strings that contain the words *Alan* or *alan* (but not *aLan*)\n",
    "* using `/Alan|alan/` will do the exact same\n"
   ]
  },
  {
   "cell_type": "markdown",
   "id": "10f6b456-f653-47d9-8415-3e7e82d8994f",
   "metadata": {},
   "source": [
    "## Let's look at `grep`\n",
    "\n",
    "* `grep` is a UNIX tool that searches the regular expressions in text.\n",
    "* You may ask, where does the name `grep` come from? \n",
    "    * It stands for *global regular expression print*\n",
    "* While regular expressions are extremely versatile, powerful and useful, they are not the right tool for all text processing scenarios.\n",
    "    * One example of this is in matching a valid email address.\n",
    "    * While a modest regular expression can match most valid email addresses and reject most invalid ones, it takes a monster regular expression to conform.\n",
    "* Yet, there are many many scenarios where regular expressions, and `grep`, are very useful.\n",
    "* There is an extended edition of `grep`, named `egrep`. We will use `egrep`.\n",
    "\n",
    "* Here is an example: find all three letter words starting with `a` or `b`"
   ]
  },
  {
   "cell_type": "code",
   "execution_count": null,
   "id": "6a04d3ff-2ea3-4979-981c-82abedd02924",
   "metadata": {},
   "outputs": [],
   "source": [
    "egrep -w '^[ab]..$' data/words.txt"
   ]
  },
  {
   "cell_type": "code",
   "execution_count": null,
   "id": "50cc0020-11d9-4a23-b9ef-f140941c1a61",
   "metadata": {},
   "outputs": [],
   "source": [
    "egrep -w '^[ab].{2}$' data/words.txt"
   ]
  },
  {
   "cell_type": "markdown",
   "id": "fbb5747b-bc0e-4119-a99d-0b6df3ac343c",
   "metadata": {},
   "source": [
    "## Exercise: find all five letter words that start with a vowel"
   ]
  },
  {
   "cell_type": "code",
   "execution_count": null,
   "id": "bcff3ce9-659f-410f-9886-813504d371f5",
   "metadata": {},
   "outputs": [],
   "source": [
    "# Write your code here\n"
   ]
  },
  {
   "cell_type": "markdown",
   "id": "5da4b644-ad91-40f1-8d1f-261c917ba42f",
   "metadata": {},
   "source": [
    "## Exercise: find some double letter combos\n",
    "\n",
    "* Use backreferences to find all the words that have\n",
    "    * \"uu\", \"vv\" or \"ww\" in them\n",
    "    * Do not use `-w`\n",
    "* With [backreferences](https://www.gnu.org/software/grep/manual/grep.html#Back_002dreferences-and-Subexpressions) we can use `egrep` to find double letters:\n",
    "> The back-reference ‘\\n’, where n is a single digit, matches the substring previously matched by the nth parenthesized subexpression of the regular expression. For example, ‘(a)\\1’ matches ‘aa’."
   ]
  },
  {
   "cell_type": "code",
   "execution_count": null,
   "id": "6c6ee1b2-c12c-4a1c-a086-50efe80f3e59",
   "metadata": {},
   "outputs": [],
   "source": [
    "# Write your code here\n"
   ]
  },
  {
   "cell_type": "markdown",
   "id": "ca6acd67-dec2-450e-8c68-dcf9bec3d93a",
   "metadata": {},
   "source": [
    "## Exercise: find some double letter combos, again!\n",
    "\n",
    "* Use backreferences to find all the words that have\n",
    "    * \"oo\" followed by another double letter\n",
    "        * Hint: `.` matches any single letter"
   ]
  },
  {
   "cell_type": "code",
   "execution_count": null,
   "id": "ccdf512c-6c9f-4730-905a-378887dfe565",
   "metadata": {},
   "outputs": [],
   "source": [
    "# Write your code here\n"
   ]
  },
  {
   "cell_type": "markdown",
   "id": "d5335cbc-d254-4183-8ebd-40d04e1c25a4",
   "metadata": {},
   "source": [
    "## Exercise: find five letter palindromes\n",
    "\n",
    "* A palindrome is a word that is spelled the same in either direction, e.g., \"rotavator\"\n",
    "* Use your regular expression skills (or powers of looking things up and figuring things out) to find five palindromes\n",
    "    * Hint: `egrep '^(.)\\1$' data/words.txt` will find the two-letter palindromes"
   ]
  },
  {
   "cell_type": "code",
   "execution_count": null,
   "id": "5a28334e-7449-406d-ba4d-85cf0a26f19d",
   "metadata": {},
   "outputs": [],
   "source": [
    "# Write your code here\n"
   ]
  },
  {
   "cell_type": "markdown",
   "id": "cb161ba8-1ff2-4bb7-b45e-78feb5efff0c",
   "metadata": {},
   "source": [
    "# 👩‍🏫 Can you help our Professor?\n",
    "\n",
    "... to finish this CrossWord\n",
    "\n",
    "<img src=\"images/crossword.png\" width=\"75%\" />"
   ]
  },
  {
   "cell_type": "code",
   "execution_count": null,
   "id": "dd0af192-d216-4ef3-b3c7-89cfaed75e70",
   "metadata": {},
   "outputs": [],
   "source": [
    "# Write your code here\n"
   ]
  }
 ],
 "metadata": {
  "kernelspec": {
   "display_name": "Bash",
   "language": "bash",
   "name": "bash"
  },
  "language_info": {
   "codemirror_mode": "shell",
   "file_extension": ".sh",
   "mimetype": "text/x-sh",
   "name": "bash"
  },
  "toc-autonumbering": false
 },
 "nbformat": 4,
 "nbformat_minor": 5
}
